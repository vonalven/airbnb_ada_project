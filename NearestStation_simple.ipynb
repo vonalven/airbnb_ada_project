{
 "cells": [
  {
   "cell_type": "code",
   "execution_count": 1,
   "metadata": {},
   "outputs": [],
   "source": [
    "import numpy as np\n",
    "import pandas as pd\n",
    "from geopy.distance import geodesic"
   ]
  },
  {
   "cell_type": "code",
   "execution_count": 32,
   "metadata": {
    "scrolled": true
   },
   "outputs": [],
   "source": [
    "stations = pd.read_csv('/Volumes/Disk2/Courses MA3/MA3 - ADA/AIRBNB data/Amsterdam_stations.csv')\n",
    "\n",
    "df = pd.read_csv('/Volumes/Disk2/Courses MA3/MA3 - ADA/AIRBNB data/DataSet/2019-09-14_Amsterdam_listings_detailed.csv', \n",
    "                 low_memory = False)\n",
    "\n",
    "#df = df.loc[0:100, :]"
   ]
  },
  {
   "cell_type": "code",
   "execution_count": 34,
   "metadata": {},
   "outputs": [
    {
     "name": "stdout",
     "output_type": "stream",
     "text": [
      "Running.... 100.0%\n",
      "\n"
     ]
    }
   ],
   "source": [
    "listing_coord  = [(df.longitude.values[i], df.latitude.values[i]) for i in range(0, len(df.longitude.values))]\n",
    "stations_long  = stations.coordinates.apply(lambda x: x.split(',')[0].split('[')[1])\n",
    "stations_lat   = stations.coordinates.apply(lambda x: x.split(',')[-1].split(']')[0])\n",
    "stations_coord = [(stations_long[i], stations_lat[i]) for i in range(0, len(stations_long))]\n",
    "\n",
    "min_distances  = dist_to_nearest_station(stations_coord, listing_coord)"
   ]
  },
  {
   "cell_type": "code",
   "execution_count": null,
   "metadata": {},
   "outputs": [],
   "source": [
    "print(min_distances)"
   ]
  },
  {
   "cell_type": "code",
   "execution_count": 27,
   "metadata": {},
   "outputs": [],
   "source": [
    "def dist_to_nearest_station(stations_coord, listing_coord):\n",
    "\n",
    "    dist_tmp = []\n",
    "    min_distances = []\n",
    "    idx = 0\n",
    "    for listing in listing_coord:\n",
    "        idx += 1\n",
    "        print('Running.... ' + str(np.ceil((idx/len(listing_coord))*100)) + '%', end='\\r')\n",
    "        for station in stations_coord:\n",
    "            dist_tmp.append(geodesic(station, listing).meters)\n",
    "        \n",
    "        min_distances.append(min(dist_tmp))\n",
    "    print('\\n')\n",
    "    return min_distances\n"
   ]
  }
 ],
 "metadata": {
  "kernelspec": {
   "display_name": "Python 3",
   "language": "python",
   "name": "python3"
  },
  "language_info": {
   "codemirror_mode": {
    "name": "ipython",
    "version": 3
   },
   "file_extension": ".py",
   "mimetype": "text/x-python",
   "name": "python",
   "nbconvert_exporter": "python",
   "pygments_lexer": "ipython3",
   "version": "3.7.1"
  }
 },
 "nbformat": 4,
 "nbformat_minor": 4
}
