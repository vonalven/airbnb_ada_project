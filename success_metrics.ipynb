{
 "cells": [
  {
   "cell_type": "markdown",
   "metadata": {},
   "source": [
    "# EXPLORING FEATURES AND DEFINING SUCCESS METRICS"
   ]
  },
  {
   "cell_type": "markdown",
   "metadata": {},
   "source": [
    "The goal of this project is to investigate what makes an AirBnb listing successful. In order to do so, we look into all of the listings of a single city: Amsterdam. This information is contained in a specific .csv file.\n",
    "\n",
    "\n",
    "Before proceding to the investigation, three preliminary steps are necessary: \n",
    "- evaluating the quality of the data\n",
    "- defining measures of success\n",
    "- choosing a broad ensemble of parameters that will be used as features\n",
    "\n",
    "\n"
   ]
  },
  {
   "cell_type": "markdown",
   "metadata": {},
   "source": [
    "### DATA EXPLORATION "
   ]
  },
  {
   "cell_type": "markdown",
   "metadata": {},
   "source": [
    "Before attempting to find an answer to our research question, the usability of the data must be evaluated. In particular, we need to identify what kind of information our data contains. "
   ]
  },
  {
   "cell_type": "code",
   "execution_count": 8,
   "metadata": {},
   "outputs": [],
   "source": [
    "#load listing and review data\n",
    "df_listings = pd.read_csv('../data/2019-09-14_Amsterdam_listings_detailed.csv', header=0)\n",
    "df_comments = pd.read_csv('../data/2019-09-14_Amsterdam_reviews.csv', header=0)"
   ]
  },
  {
   "cell_type": "markdown",
   "metadata": {},
   "source": [
    "In order to analyze the data contained in the '...listings_detailed.csv' file, we proceed in answering the following questions:\n",
    "\n",
    "    1. How many listings are there in this city ? Are they all unique ?\n",
    "    2. What information can we get for a particular listing ?\n",
    "    3. Are there missing values ? Do they make us lose valuable information ?\n",
    "    4. Can the data be used as such or should it be transformed ?\n"
   ]
  },
  {
   "cell_type": "code",
   "execution_count": 9,
   "metadata": {},
   "outputs": [
    {
     "data": {
      "text/html": [
       "<div>\n",
       "<style scoped>\n",
       "    .dataframe tbody tr th:only-of-type {\n",
       "        vertical-align: middle;\n",
       "    }\n",
       "\n",
       "    .dataframe tbody tr th {\n",
       "        vertical-align: top;\n",
       "    }\n",
       "\n",
       "    .dataframe thead th {\n",
       "        text-align: right;\n",
       "    }\n",
       "</style>\n",
       "<table border=\"1\" class=\"dataframe\">\n",
       "  <thead>\n",
       "    <tr style=\"text-align: right;\">\n",
       "      <th></th>\n",
       "      <th>id</th>\n",
       "      <th>listing_url</th>\n",
       "      <th>scrape_id</th>\n",
       "      <th>last_scraped</th>\n",
       "      <th>name</th>\n",
       "      <th>summary</th>\n",
       "      <th>space</th>\n",
       "      <th>description</th>\n",
       "      <th>experiences_offered</th>\n",
       "      <th>neighborhood_overview</th>\n",
       "      <th>...</th>\n",
       "      <th>instant_bookable</th>\n",
       "      <th>is_business_travel_ready</th>\n",
       "      <th>cancellation_policy</th>\n",
       "      <th>require_guest_profile_picture</th>\n",
       "      <th>require_guest_phone_verification</th>\n",
       "      <th>calculated_host_listings_count</th>\n",
       "      <th>calculated_host_listings_count_entire_homes</th>\n",
       "      <th>calculated_host_listings_count_private_rooms</th>\n",
       "      <th>calculated_host_listings_count_shared_rooms</th>\n",
       "      <th>reviews_per_month</th>\n",
       "    </tr>\n",
       "  </thead>\n",
       "  <tbody>\n",
       "    <tr>\n",
       "      <th>0</th>\n",
       "      <td>2818</td>\n",
       "      <td>https://www.airbnb.com/rooms/2818</td>\n",
       "      <td>20190914033014</td>\n",
       "      <td>2019-09-14</td>\n",
       "      <td>Quiet Garden View Room &amp; Super Fast WiFi</td>\n",
       "      <td>Quiet Garden View Room &amp; Super Fast WiFi</td>\n",
       "      <td>I'm renting a bedroom (room overlooking the ga...</td>\n",
       "      <td>Quiet Garden View Room &amp; Super Fast WiFi I'm r...</td>\n",
       "      <td>none</td>\n",
       "      <td>Indische Buurt (\"Indies Neighborhood\") is a ne...</td>\n",
       "      <td>...</td>\n",
       "      <td>t</td>\n",
       "      <td>f</td>\n",
       "      <td>strict_14_with_grace_period</td>\n",
       "      <td>f</td>\n",
       "      <td>f</td>\n",
       "      <td>1</td>\n",
       "      <td>0</td>\n",
       "      <td>1</td>\n",
       "      <td>0</td>\n",
       "      <td>2.11</td>\n",
       "    </tr>\n",
       "    <tr>\n",
       "      <th>1</th>\n",
       "      <td>20168</td>\n",
       "      <td>https://www.airbnb.com/rooms/20168</td>\n",
       "      <td>20190914033014</td>\n",
       "      <td>2019-09-14</td>\n",
       "      <td>Studio with private bathroom in the centre 1</td>\n",
       "      <td>Cozy studio on your own private floor, 100% in...</td>\n",
       "      <td>For those who like all facets of city life. In...</td>\n",
       "      <td>Cozy studio on your own private floor, 100% in...</td>\n",
       "      <td>none</td>\n",
       "      <td>Located just in between famous central canals....</td>\n",
       "      <td>...</td>\n",
       "      <td>f</td>\n",
       "      <td>f</td>\n",
       "      <td>strict_14_with_grace_period</td>\n",
       "      <td>f</td>\n",
       "      <td>f</td>\n",
       "      <td>2</td>\n",
       "      <td>0</td>\n",
       "      <td>2</td>\n",
       "      <td>0</td>\n",
       "      <td>2.48</td>\n",
       "    </tr>\n",
       "    <tr>\n",
       "      <th>2</th>\n",
       "      <td>25428</td>\n",
       "      <td>https://www.airbnb.com/rooms/25428</td>\n",
       "      <td>20190914033014</td>\n",
       "      <td>2019-09-14</td>\n",
       "      <td>Lovely apt in City Centre (w.lift) near Jordaan</td>\n",
       "      <td>NaN</td>\n",
       "      <td>This nicely furnished, newly renovated apt  is...</td>\n",
       "      <td>This nicely furnished, newly renovated apt  is...</td>\n",
       "      <td>none</td>\n",
       "      <td>NaN</td>\n",
       "      <td>...</td>\n",
       "      <td>f</td>\n",
       "      <td>f</td>\n",
       "      <td>strict_14_with_grace_period</td>\n",
       "      <td>f</td>\n",
       "      <td>f</td>\n",
       "      <td>2</td>\n",
       "      <td>2</td>\n",
       "      <td>0</td>\n",
       "      <td>0</td>\n",
       "      <td>0.15</td>\n",
       "    </tr>\n",
       "    <tr>\n",
       "      <th>3</th>\n",
       "      <td>27886</td>\n",
       "      <td>https://www.airbnb.com/rooms/27886</td>\n",
       "      <td>20190914033014</td>\n",
       "      <td>2019-09-14</td>\n",
       "      <td>Romantic, stylish B&amp;B houseboat in canal district</td>\n",
       "      <td>Stylish and romantic houseboat on fantastic hi...</td>\n",
       "      <td>For a romantic couple: A beautifully restored ...</td>\n",
       "      <td>Stylish and romantic houseboat on fantastic hi...</td>\n",
       "      <td>none</td>\n",
       "      <td>Central, quiet, safe, clean and beautiful.</td>\n",
       "      <td>...</td>\n",
       "      <td>t</td>\n",
       "      <td>f</td>\n",
       "      <td>strict_14_with_grace_period</td>\n",
       "      <td>f</td>\n",
       "      <td>f</td>\n",
       "      <td>1</td>\n",
       "      <td>0</td>\n",
       "      <td>1</td>\n",
       "      <td>0</td>\n",
       "      <td>2.14</td>\n",
       "    </tr>\n",
       "    <tr>\n",
       "      <th>4</th>\n",
       "      <td>28871</td>\n",
       "      <td>https://www.airbnb.com/rooms/28871</td>\n",
       "      <td>20190914033014</td>\n",
       "      <td>2019-09-14</td>\n",
       "      <td>Comfortable double room</td>\n",
       "      <td>NaN</td>\n",
       "      <td>In a monumental house right in the center of A...</td>\n",
       "      <td>In a monumental house right in the center of A...</td>\n",
       "      <td>none</td>\n",
       "      <td>NaN</td>\n",
       "      <td>...</td>\n",
       "      <td>f</td>\n",
       "      <td>f</td>\n",
       "      <td>moderate</td>\n",
       "      <td>f</td>\n",
       "      <td>f</td>\n",
       "      <td>3</td>\n",
       "      <td>0</td>\n",
       "      <td>3</td>\n",
       "      <td>0</td>\n",
       "      <td>2.67</td>\n",
       "    </tr>\n",
       "  </tbody>\n",
       "</table>\n",
       "<p>5 rows × 106 columns</p>\n",
       "</div>"
      ],
      "text/plain": [
       "      id                         listing_url       scrape_id last_scraped  \\\n",
       "0   2818   https://www.airbnb.com/rooms/2818  20190914033014   2019-09-14   \n",
       "1  20168  https://www.airbnb.com/rooms/20168  20190914033014   2019-09-14   \n",
       "2  25428  https://www.airbnb.com/rooms/25428  20190914033014   2019-09-14   \n",
       "3  27886  https://www.airbnb.com/rooms/27886  20190914033014   2019-09-14   \n",
       "4  28871  https://www.airbnb.com/rooms/28871  20190914033014   2019-09-14   \n",
       "\n",
       "                                                name  \\\n",
       "0           Quiet Garden View Room & Super Fast WiFi   \n",
       "1       Studio with private bathroom in the centre 1   \n",
       "2    Lovely apt in City Centre (w.lift) near Jordaan   \n",
       "3  Romantic, stylish B&B houseboat in canal district   \n",
       "4                            Comfortable double room   \n",
       "\n",
       "                                             summary  \\\n",
       "0           Quiet Garden View Room & Super Fast WiFi   \n",
       "1  Cozy studio on your own private floor, 100% in...   \n",
       "2                                                NaN   \n",
       "3  Stylish and romantic houseboat on fantastic hi...   \n",
       "4                                                NaN   \n",
       "\n",
       "                                               space  \\\n",
       "0  I'm renting a bedroom (room overlooking the ga...   \n",
       "1  For those who like all facets of city life. In...   \n",
       "2  This nicely furnished, newly renovated apt  is...   \n",
       "3  For a romantic couple: A beautifully restored ...   \n",
       "4  In a monumental house right in the center of A...   \n",
       "\n",
       "                                         description experiences_offered  \\\n",
       "0  Quiet Garden View Room & Super Fast WiFi I'm r...                none   \n",
       "1  Cozy studio on your own private floor, 100% in...                none   \n",
       "2  This nicely furnished, newly renovated apt  is...                none   \n",
       "3  Stylish and romantic houseboat on fantastic hi...                none   \n",
       "4  In a monumental house right in the center of A...                none   \n",
       "\n",
       "                               neighborhood_overview  ... instant_bookable  \\\n",
       "0  Indische Buurt (\"Indies Neighborhood\") is a ne...  ...                t   \n",
       "1  Located just in between famous central canals....  ...                f   \n",
       "2                                                NaN  ...                f   \n",
       "3         Central, quiet, safe, clean and beautiful.  ...                t   \n",
       "4                                                NaN  ...                f   \n",
       "\n",
       "  is_business_travel_ready          cancellation_policy  \\\n",
       "0                        f  strict_14_with_grace_period   \n",
       "1                        f  strict_14_with_grace_period   \n",
       "2                        f  strict_14_with_grace_period   \n",
       "3                        f  strict_14_with_grace_period   \n",
       "4                        f                     moderate   \n",
       "\n",
       "  require_guest_profile_picture require_guest_phone_verification  \\\n",
       "0                             f                                f   \n",
       "1                             f                                f   \n",
       "2                             f                                f   \n",
       "3                             f                                f   \n",
       "4                             f                                f   \n",
       "\n",
       "   calculated_host_listings_count  \\\n",
       "0                               1   \n",
       "1                               2   \n",
       "2                               2   \n",
       "3                               1   \n",
       "4                               3   \n",
       "\n",
       "   calculated_host_listings_count_entire_homes  \\\n",
       "0                                            0   \n",
       "1                                            0   \n",
       "2                                            2   \n",
       "3                                            0   \n",
       "4                                            0   \n",
       "\n",
       "  calculated_host_listings_count_private_rooms  \\\n",
       "0                                            1   \n",
       "1                                            2   \n",
       "2                                            0   \n",
       "3                                            1   \n",
       "4                                            3   \n",
       "\n",
       "   calculated_host_listings_count_shared_rooms  reviews_per_month  \n",
       "0                                            0               2.11  \n",
       "1                                            0               2.48  \n",
       "2                                            0               0.15  \n",
       "3                                            0               2.14  \n",
       "4                                            0               2.67  \n",
       "\n",
       "[5 rows x 106 columns]"
      ]
     },
     "execution_count": 9,
     "metadata": {},
     "output_type": "execute_result"
    }
   ],
   "source": [
    "df_listings.head()"
   ]
  },
  {
   "cell_type": "code",
   "execution_count": 40,
   "metadata": {},
   "outputs": [
    {
     "name": "stdout",
     "output_type": "stream",
     "text": [
      "Fraction of missing values in the dataframe: 13.997%\n",
      "\n",
      "The six columns with the most missing data are (with % Nan in column): \n"
     ]
    },
    {
     "data": {
      "text/plain": [
       "thumbnail_url                   100.00\n",
       "medium_url                      100.00\n",
       "xl_picture_url                  100.00\n",
       "host_acceptance_rate            100.00\n",
       "neighbourhood_group_cleansed    100.00\n",
       "license                          99.84\n",
       "square_feet                      98.17\n",
       "monthly_price                    93.40\n",
       "dtype: float64"
      ]
     },
     "metadata": {},
     "output_type": "display_data"
    },
    {
     "name": "stdout",
     "output_type": "stream",
     "text": [
      "\n",
      "Together, they account for: 53.34% of the missing data.\n",
      "\n",
      "There are: 0 duplicated listing ids\n",
      "There are : 0 Nan values under id\n",
      "There are : 0 empty values under id\n"
     ]
    }
   ],
   "source": [
    "# check proportion of missing features\n",
    "total_cell_nbr = df_listings.shape[0]*df_listings.shape[1]\n",
    "percentage_missing = df_listings.isna().sum().sum()/total_cell_nbr*100\n",
    "print('Fraction of missing values in the dataframe: '+ str(round(percentage_missing,3))+'%')\n",
    "print('')\n",
    "print('The eight columns with the most missing data are (with % Nan in column): ')\n",
    "display(df_listings.isna().sum().divide(df_listings.shape[0]/100).nlargest(8).round(2))\n",
    "print('')\n",
    "frac_in_5 = df_listings.isna().sum().nlargest(8).sum()/df_listings.isna().sum().sum()\n",
    "print('Together, they account for: '+ str(round(frac_in_5*100,2)) +'% of the missing data.')\n",
    "print('')\n",
    "\n",
    "# check if listing ids are duplicated \n",
    "print('There are: ' + str(df_listings.duplicated('id', keep = False).sum()) + ' duplicated listing ids')\n",
    "\n",
    "# check if listing ids are Nan or empty values\n",
    "print('There are : ' + str(df_listings['id'].isna().sum()) + ' Nan values under id')\n",
    "print('There are : ' + str(df_listings.id.loc[df_listings['id'] == ''].sum()) + ' empty values under id')"
   ]
  },
  {
   "cell_type": "markdown",
   "metadata": {},
   "source": [
    "To answer the questions stated above, we can observe the following:\n",
    "\n",
    "- There are 106 columns in this dataset, one of which is the listing id, the others all contain different types of information about the listings.\n",
    "- Each row of the dataset corresponds to a different listing.\n",
    "- There are no missing listing ids.\n",
    "- More than half of the missing data comes from eight columns, that are for the most part not essential parameters. \n",
    "- The neighbourhood information can be obtained from an other column: 'neibourhood_cleansed'.\n",
    "- The 'square_feet' column, however could have been an intersting parameter.\n",
    "- Some columns contain string type data, others contain numerical values.\n",
    "\n",
    "From this analysis, we infer that the data is of sufficient quality to build success metrics and features of listing information that impact these success metrics. We can thus proceed to the next step: defining success metrics. \n",
    "\n",
    "\n"
   ]
  },
  {
   "cell_type": "markdown",
   "metadata": {},
   "source": [
    "### SUCCESS METRICS"
   ]
  },
  {
   "cell_type": "markdown",
   "metadata": {},
   "source": [
    "To obtain accurate representations of how successful an AirBnb listing is, we go over the different kinds of information provided by the dataset containing the details of listing and identify the best success metrics. We also look into the other files provided by the Inside Airbnb dataset to construct other metrics."
   ]
  },
  {
   "cell_type": "code",
   "execution_count": 42,
   "metadata": {},
   "outputs": [],
   "source": [
    "import warnings \n",
    "warnings.simplefilter('ignore')"
   ]
  },
  {
   "cell_type": "code",
   "execution_count": 43,
   "metadata": {},
   "outputs": [],
   "source": [
    "from comment_analysis import *"
   ]
  },
  {
   "cell_type": "markdown",
   "metadata": {},
   "source": [
    "#### 1. Metric selection"
   ]
  },
  {
   "cell_type": "code",
   "execution_count": 5,
   "metadata": {},
   "outputs": [
    {
     "data": {
      "text/plain": [
       "['id',\n",
       " 'listing_url',\n",
       " 'scrape_id',\n",
       " 'last_scraped',\n",
       " 'name',\n",
       " 'summary',\n",
       " 'space',\n",
       " 'description',\n",
       " 'experiences_offered',\n",
       " 'neighborhood_overview',\n",
       " 'notes',\n",
       " 'transit',\n",
       " 'access',\n",
       " 'interaction',\n",
       " 'house_rules',\n",
       " 'thumbnail_url',\n",
       " 'medium_url',\n",
       " 'picture_url',\n",
       " 'xl_picture_url',\n",
       " 'host_id',\n",
       " 'host_url',\n",
       " 'host_name',\n",
       " 'host_since',\n",
       " 'host_location',\n",
       " 'host_about',\n",
       " 'host_response_time',\n",
       " 'host_response_rate',\n",
       " 'host_acceptance_rate',\n",
       " 'host_is_superhost',\n",
       " 'host_thumbnail_url',\n",
       " 'host_picture_url',\n",
       " 'host_neighbourhood',\n",
       " 'host_listings_count',\n",
       " 'host_total_listings_count',\n",
       " 'host_verifications',\n",
       " 'host_has_profile_pic',\n",
       " 'host_identity_verified',\n",
       " 'street',\n",
       " 'neighbourhood',\n",
       " 'neighbourhood_cleansed',\n",
       " 'neighbourhood_group_cleansed',\n",
       " 'city',\n",
       " 'state',\n",
       " 'zipcode',\n",
       " 'market',\n",
       " 'smart_location',\n",
       " 'country_code',\n",
       " 'country',\n",
       " 'latitude',\n",
       " 'longitude',\n",
       " 'is_location_exact',\n",
       " 'property_type',\n",
       " 'room_type',\n",
       " 'accommodates',\n",
       " 'bathrooms',\n",
       " 'bedrooms',\n",
       " 'beds',\n",
       " 'bed_type',\n",
       " 'amenities',\n",
       " 'square_feet',\n",
       " 'price',\n",
       " 'weekly_price',\n",
       " 'monthly_price',\n",
       " 'security_deposit',\n",
       " 'cleaning_fee',\n",
       " 'guests_included',\n",
       " 'extra_people',\n",
       " 'minimum_nights',\n",
       " 'maximum_nights',\n",
       " 'minimum_minimum_nights',\n",
       " 'maximum_minimum_nights',\n",
       " 'minimum_maximum_nights',\n",
       " 'maximum_maximum_nights',\n",
       " 'minimum_nights_avg_ntm',\n",
       " 'maximum_nights_avg_ntm',\n",
       " 'calendar_updated',\n",
       " 'has_availability',\n",
       " 'availability_30',\n",
       " 'availability_60',\n",
       " 'availability_90',\n",
       " 'availability_365',\n",
       " 'calendar_last_scraped',\n",
       " 'number_of_reviews',\n",
       " 'number_of_reviews_ltm',\n",
       " 'first_review',\n",
       " 'last_review',\n",
       " 'review_scores_rating',\n",
       " 'review_scores_accuracy',\n",
       " 'review_scores_cleanliness',\n",
       " 'review_scores_checkin',\n",
       " 'review_scores_communication',\n",
       " 'review_scores_location',\n",
       " 'review_scores_value',\n",
       " 'requires_license',\n",
       " 'license',\n",
       " 'jurisdiction_names',\n",
       " 'instant_bookable',\n",
       " 'is_business_travel_ready',\n",
       " 'cancellation_policy',\n",
       " 'require_guest_profile_picture',\n",
       " 'require_guest_phone_verification',\n",
       " 'calculated_host_listings_count',\n",
       " 'calculated_host_listings_count_entire_homes',\n",
       " 'calculated_host_listings_count_private_rooms',\n",
       " 'calculated_host_listings_count_shared_rooms',\n",
       " 'reviews_per_month']"
      ]
     },
     "execution_count": 5,
     "metadata": {},
     "output_type": "execute_result"
    }
   ],
   "source": [
    "#glimpse at the info contained in the listing dataframe\n",
    "df_listings.columns.tolist()"
   ]
  },
  {
   "cell_type": "markdown",
   "metadata": {},
   "source": [
    "By taking a look at the columns of this dataframe, it appears that some columns would intuitively be more suited than others to be chosen as success metrics.\n",
    "\n",
    "These columns are:\n",
    "- 'review_scores_rating'\n",
    "- 'review_scores_accuracy'\n",
    "- 'review_scores_cleanliness'\n",
    "- 'review_scores_checkin'\n",
    "- 'review_scores_communication'\n",
    "- 'review_scores_location'\n",
    "- 'review_scores_value'\n",
    "- 'reviews_per_month'\n",
    "\n",
    "Apart from the 'reviews_per_month' column, these columns are all averages of scores given to a listing by guests. These scores give some insight into the rating of a listing.\n",
    "\n",
    "An other aspect we want to include as metric is the frequency at which a listing booked. To do so, we identified a column potentially suited to measure the booking frequency: 'reviews_per_month'. The values in this column average the number of reviews per month for a particular listing. It should be noted that not all guests leave reviews and that guests book a stay for different amounts of time. This value is thus not an exact measure of the number of nights booked per months, but rather an approximative indicator of the demand for a listing.\n",
    "\n",
    "As it turns out, the 'review_scores_rating' values are calculated as weighted sum of the other 'review_scores_...'.\n",
    "We can thus consider that all the other scores are taken into account in this one, such that it is necessary only for this metric to be kept.\n",
    "\n",
    "Therefore, the remaining columns of interest are:\n",
    "- 'review_scores_rating'\n",
    "- 'reviews_per_month'\n",
    "\n",
    "Alternatively, we could keep all the 'review_scores_...' columns and drop 'review_scores_rating', if we want to investigate specific aspects, such as cleanliness, communication, location...\n"
   ]
  },
  {
   "cell_type": "markdown",
   "metadata": {},
   "source": [
    "#### 2. Metric construction"
   ]
  },
  {
   "cell_type": "markdown",
   "metadata": {},
   "source": [
    "An other quantity can be used as a measure of a listing's succes: the positive/negative sentiment of the comments left by the reviewers. Comments for all the listings of a given city can be found a '...reviews.csv' file. From this file, the comments were processed and a sentiment analysis was performed (refer to the commentsAnalysis.ipynb notebook for a complete exploration and step-by-step anlaysis of the reviews data). In doing so, we were able to extract two different measures of sentiment: the average negative and the average positive sentiments for each listing."
   ]
  },
  {
   "cell_type": "code",
   "execution_count": 7,
   "metadata": {
    "scrolled": true
   },
   "outputs": [
    {
     "name": "stdout",
     "output_type": "stream",
     "text": [
      "This data contains 484507 lines.\n",
      "There are 17587 different housings in this city.\n"
     ]
    },
    {
     "data": {
      "image/png": "[encoded data removed]",
      "text/plain": [
       "<Figure size 432x288 with 4 Axes>"
      ]
     },
     "metadata": {
      "needs_background": "light"
     },
     "output_type": "display_data"
    }
   ],
   "source": [
    "# add comment sentiment metric\n",
    "\n",
    "# analyze comment data for each listing\n",
    "_, _, comments_en_copy = analyze_comments(df_comments) #this step is very long!\n",
    "df_comments_sentiment = comments_en_copy.copy()\n",
    "\n",
    "# as the previous step takes some time to run, the result is saved and can be loaded for further use\n",
    "df_comments_sentiment.to_pickle(\"./df_comments_sentiment.pkl\")\n",
    "\n",
    "# drop 'neutrality' and 'compound' columns\n",
    "df_comments_sentiment.drop(columns = ['neutrality', 'compound'], inplace = True)"
   ]
  },
  {
   "cell_type": "code",
   "execution_count": null,
   "metadata": {},
   "outputs": [],
   "source": [
    "# uncomment to load stored comment analysis data \n",
    "#df_comments_sentiment = pd.read_pickle(\"./df_comments_sentiment.pkl\")"
   ]
  },
  {
   "cell_type": "markdown",
   "metadata": {},
   "source": [
    "From the sentiment analysis, we only keep the positivy and negativity of the overall comments for each listing.\n",
    "Success can thus be defined by the 4 following metrics:\n",
    "\n",
    "- 'review_scores_rating'\n",
    "- 'reviews_per_month'\n",
    "- 'positive_sentiment'\n",
    "- 'negative_sentiment'\n",
    "\n",
    "The remaining columns (not used as metrics) will be further inspected in order to pre-select features."
   ]
  },
  {
   "cell_type": "code",
   "execution_count": 11,
   "metadata": {},
   "outputs": [
    {
     "data": {
      "text/html": [
       "<div>\n",
       "<style scoped>\n",
       "    .dataframe tbody tr th:only-of-type {\n",
       "        vertical-align: middle;\n",
       "    }\n",
       "\n",
       "    .dataframe tbody tr th {\n",
       "        vertical-align: top;\n",
       "    }\n",
       "\n",
       "    .dataframe thead th {\n",
       "        text-align: right;\n",
       "    }\n",
       "</style>\n",
       "<table border=\"1\" class=\"dataframe\">\n",
       "  <thead>\n",
       "    <tr style=\"text-align: right;\">\n",
       "      <th></th>\n",
       "      <th>id</th>\n",
       "      <th>review_scores_rating</th>\n",
       "      <th>reviews_per_month</th>\n",
       "      <th>negativity</th>\n",
       "      <th>positivity</th>\n",
       "    </tr>\n",
       "  </thead>\n",
       "  <tbody>\n",
       "    <tr>\n",
       "      <th>0</th>\n",
       "      <td>2818</td>\n",
       "      <td>98.0</td>\n",
       "      <td>2.11</td>\n",
       "      <td>0.008359</td>\n",
       "      <td>0.303975</td>\n",
       "    </tr>\n",
       "    <tr>\n",
       "      <th>1</th>\n",
       "      <td>20168</td>\n",
       "      <td>88.0</td>\n",
       "      <td>2.48</td>\n",
       "      <td>0.017532</td>\n",
       "      <td>0.314667</td>\n",
       "    </tr>\n",
       "    <tr>\n",
       "      <th>2</th>\n",
       "      <td>25428</td>\n",
       "      <td>100.0</td>\n",
       "      <td>0.15</td>\n",
       "      <td>0.000000</td>\n",
       "      <td>0.224000</td>\n",
       "    </tr>\n",
       "    <tr>\n",
       "      <th>3</th>\n",
       "      <td>27886</td>\n",
       "      <td>99.0</td>\n",
       "      <td>2.14</td>\n",
       "      <td>0.012159</td>\n",
       "      <td>0.362951</td>\n",
       "    </tr>\n",
       "    <tr>\n",
       "      <th>4</th>\n",
       "      <td>28871</td>\n",
       "      <td>97.0</td>\n",
       "      <td>2.67</td>\n",
       "      <td>0.008462</td>\n",
       "      <td>0.374759</td>\n",
       "    </tr>\n",
       "  </tbody>\n",
       "</table>\n",
       "</div>"
      ],
      "text/plain": [
       "      id  review_scores_rating  reviews_per_month  negativity  positivity\n",
       "0   2818                  98.0               2.11    0.008359    0.303975\n",
       "1  20168                  88.0               2.48    0.017532    0.314667\n",
       "2  25428                 100.0               0.15    0.000000    0.224000\n",
       "3  27886                  99.0               2.14    0.012159    0.362951\n",
       "4  28871                  97.0               2.67    0.008462    0.374759"
      ]
     },
     "execution_count": 11,
     "metadata": {},
     "output_type": "execute_result"
    }
   ],
   "source": [
    "# create a new dataframe for success metrics\n",
    "df_success_metrics = pd.merge(df_listings[['id', 'review_scores_rating', 'reviews_per_month']],\n",
    "                              df_comments_sentiment, left_on='id', right_on='listing_id')\n",
    "\n",
    "df_success_metrics.head()"
   ]
  },
  {
   "cell_type": "markdown",
   "metadata": {},
   "source": [
    "#### 3. Metric analysis"
   ]
  },
  {
   "cell_type": "code",
   "execution_count": 12,
   "metadata": {
    "scrolled": true
   },
   "outputs": [
    {
     "name": "stdout",
     "output_type": "stream",
     "text": [
      "The metric review_scores_rating is in the range: [20.0, 100.0]\n",
      "The metric reviews_per_month is in the range: [0.01, 52.24]\n",
      "The metric negativity is in the range: [0.0, 0.444]\n",
      "The metric positivity is in the range: [0.0, 1.0]\n"
     ]
    }
   ],
   "source": [
    "print('The metric review_scores_rating is in the range: ['+ str(df_success_metrics.review_scores_rating.min())+', '+str(df_success_metrics.review_scores_rating.max())+']')\n",
    "print('The metric reviews_per_month is in the range: ['+ str(df_success_metrics.reviews_per_month.min())+', '+str(df_success_metrics.reviews_per_month.max())+']')\n",
    "print('The metric negativity is in the range: ['+ str(df_success_metrics.negativity.min())+', '+str(df_success_metrics.negativity.max())+']')\n",
    "print('The metric positivity is in the range: ['+ str(df_success_metrics.positivity.min())+', '+str(df_success_metrics.positivity.max())+']')"
   ]
  },
  {
   "cell_type": "markdown",
   "metadata": {},
   "source": [
    "Our metrics are all numerical values that vary in a certain range."
   ]
  },
  {
   "cell_type": "code",
   "execution_count": 13,
   "metadata": {},
   "outputs": [
    {
     "name": "stdout",
     "output_type": "stream",
     "text": [
      "There are : 0 Nan values under id\n",
      "There are : 224 Nan values under review_scores_rating\n",
      "There are : 0 Nan values under reviews_per_month\n",
      "There are : 0 Nan values under negativity\n",
      "There are : 0 Nan values under positivity\n",
      "\n",
      "There are : 0 empty values under id\n",
      "There are : 0 empty values under review_scores_rating\n",
      "There are : 0 empty values under reviews_per_month\n",
      "There are : 0 empty values under negativity\n",
      "There are : 0 empty values under positivity\n"
     ]
    }
   ],
   "source": [
    "# check for Nan values in each metric\n",
    "for col in df_success_metrics:\n",
    "    print('There are : ' + str(df_success_metrics[col].isna().sum()) + ' Nan values under ' + col)\n",
    "\n",
    "print('')\n",
    "\n",
    "c = (df_success_metrics == '').sum(axis=0)\n",
    "# check for empty values in each metric\n",
    "for col in df_success_metrics:\n",
    "    print('There are : ' + str(c[col]) + ' empty values under ' + col)"
   ]
  },
  {
   "cell_type": "code",
   "execution_count": 14,
   "metadata": {},
   "outputs": [],
   "source": [
    "# drop rows with Nan values\n",
    "df_success_metrics.dropna(axis = 0, inplace = True)"
   ]
  },
  {
   "cell_type": "code",
   "execution_count": 15,
   "metadata": {},
   "outputs": [],
   "source": [
    "# save final success metrics dataframe\n",
    "df_success_metrics.to_pickle(\"./df_success_metrics.pkl\")"
   ]
  },
  {
   "cell_type": "markdown",
   "metadata": {},
   "source": [
    "### CHOOSING FEATURES"
   ]
  },
  {
   "cell_type": "markdown",
   "metadata": {},
   "source": [
    "Finally the success metrics are obtained, cleaned and ready for further use (ML) ..?\n",
    "\n",
    "plots?"
   ]
  }
 ],
 "metadata": {
  "kernelspec": {
   "display_name": "Python 3",
   "language": "python",
   "name": "python3"
  },
  "language_info": {
   "codemirror_mode": {
    "name": "ipython",
    "version": 3
   },
   "file_extension": ".py",
   "mimetype": "text/x-python",
   "name": "python",
   "nbconvert_exporter": "python",
   "pygments_lexer": "ipython3",
   "version": "3.7.1"
  }
 },
 "nbformat": 4,
 "nbformat_minor": 2
}
