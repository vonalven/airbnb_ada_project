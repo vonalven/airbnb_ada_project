{
 "cells": [
  {
   "cell_type": "code",
   "execution_count": 8,
   "metadata": {},
   "outputs": [],
   "source": [
    "from comment_analysis import *\n",
    "from feature_tools import *\n",
    "from cleaning_utility import *\n",
    "import pandas as pd"
   ]
  },
  {
   "cell_type": "code",
   "execution_count": null,
   "metadata": {},
   "outputs": [],
   "source": []
  },
  {
   "cell_type": "code",
   "execution_count": null,
   "metadata": {},
   "outputs": [
    {
     "name": "stdout",
     "output_type": "stream",
     "text": [
      "This data contains 484507 lines.\n"
     ]
    },
    {
     "name": "stderr",
     "output_type": "stream",
     "text": [
      "/Volumes/Disk2/Courses MA3/MA3 - ADA/airbnb_ada_project/comment_analysis.py:57: SettingWithCopyWarning:\n",
      "\n",
      "\n",
      "A value is trying to be set on a copy of a slice from a DataFrame.\n",
      "Try using .loc[row_indexer,col_indexer] = value instead\n",
      "\n",
      "See the caveats in the documentation: http://pandas.pydata.org/pandas-docs/stable/indexing.html#indexing-view-versus-copy\n",
      "\n"
     ]
    }
   ],
   "source": [
    "df_listings = pd.read_csv('/Volumes/Disk2/Courses MA3/MA3 - ADA/AIRBNB data/DataSet/2019-09-14_Amsterdam_listings_detailed.csv', header=0, low_memory = False)\n",
    "df_neighbourhood = pd.read_csv('/Volumes/Disk2/Courses MA3/MA3 - ADA/AIRBNB data/DataSet/NaT_Amsterdam_neighbourhoods.csv')\n",
    "df_comments = pd.read_csv('/Volumes/Disk2/Courses MA3/MA3 - ADA/AIRBNB data/DataSet/2019-09-14_Amsterdam_reviews.csv', header=0)\n",
    "\n",
    "# drop neighbourhood_group column as it is only filled with NaN\n",
    "df_neighbourhood = df_neighbourhood.drop(columns = ['neighbourhood_group'])\n",
    "\n",
    "# transform neighbourhood name into a categorical integer to create a new feature\n",
    "df_neighbourhood['neighborhood_id'] = df_neighbourhood.index.values + [1]*df_neighbourhood.shape[0]\n",
    "\n",
    "#############################\n",
    "df_comments_sentiment = pd.read_pickle(\"../data/df_comments_sentiment_final.pkl\")\n",
    "\n",
    "#############################\n",
    "\n",
    "# create a new dataframe for success metrics\n",
    "df_success_metrics = pd.merge(df_listings[['id', 'review_scores_rating', 'reviews_per_month']],\n",
    "                              df_comments_sentiment, left_on='id', right_on='listing_id')\n",
    "# change index to id\n",
    "df_success_metrics = df_success_metrics.set_index('id')\n",
    "\n",
    "\n",
    "features_ensemble       = ['id', 'host_since', 'host_response_rate', 'host_is_superhost', 'host_total_listings_count', \n",
    "                          'host_verifications', 'host_has_profile_pic', 'host_identity_verified', 'neighbourhood_cleansed',\n",
    "                          'property_type', 'room_type', 'bed_type', 'amenities', 'price', 'security_deposit', 'cleaning_fee',\n",
    "                          'guests_included', 'extra_people', 'minimum_nights', 'maximum_nights', 'number_of_reviews', \n",
    "                          'instant_bookable', 'cancellation_policy']\n",
    "# features are seperated depending on their types to be prepared before being used for ML\n",
    "date_features           = 'host_since'\n",
    "bool_features           = ['host_is_superhost', 'host_has_profile_pic', 'host_identity_verified', 'instant_bookable']\n",
    "list_features           = ['host_verifications', 'amenities']\n",
    "price_features          = ['price', 'security_deposit', 'cleaning_fee', 'extra_people']\n",
    "neighborhood_features   = ['neighbourhood_cleansed']\n",
    "string_features         = ['property_type', 'cancellation_policy','room_type', 'bed_type']\n",
    "rate_features           = ['host_response_rate']\n",
    "replace_nan_features    = ['host_response_rate', 'host_is_superhost', 'host_total_listings_count', 'security_deposit', 'cleaning_fee', 'number_of_amenities']\n",
    "replace_values          = [0, 0, 0, 0, 0, 0]\n",
    "# create an instance of the class CleaningUtility()\n",
    "cu = CleaningUtility()\n",
    "# FEATURES PREPARATION\n",
    "\n",
    "# using the class CleaningUtility(), features are prepared to be used \n",
    "df_features = df_listings[features_ensemble].copy()\n",
    "df_features = cu.bool_to_int(df_features, bool_features)\n",
    "df_features = cu.host_activity_period(df_features, date_features)\n",
    "df_features = cu.list_to_number_of_services(df_features, list_features)\n",
    "df_features = cu.format_price(df_features, price_features)\n",
    "df_features = cu.format_rate(df_features, rate_features)\n",
    "df_features = cu.replace_nan_by_values(df_features, replace_nan_features, replace_values)\n",
    "\n",
    "# create a new feature with neighbourhood_id which indicates in which neighborhood of this city the listing is located\n",
    "df_features = cu.string_to_id(df_features, neighborhood_features[0], df_neighbourhood.neighbourhood, df_neighbourhood.neighborhood_id)\n",
    "\n",
    "# convert string_featutes to one-hot labels (-> will increase the number of columns)\n",
    "df_features = cu.convert_to_one_hot_label(df_features, string_features)\n",
    "\n",
    "# computes the price per person\n",
    "df_features = cu.prices_per_person(df_features, price_features[0:-1], 'guests_included')\n",
    "\n",
    "##############################################################\n",
    "## now that all the data are numeric, convert all to float64 #\n",
    "##############################################################\n",
    "cols           = df_features.columns\n",
    "df_features[cols] = df_features[cols].apply(pd.to_numeric, errors = 'raise')\n",
    "\n",
    "##############################################################\n",
    "############# keep only rows with non-nan values #############\n",
    "##############################################################\n",
    "tmp      = df_features.shape[0]\n",
    "df_features = cu.select_numeric_column_only(df_features)\n",
    "df_features = df_features.dropna()\n",
    "\n",
    "##############################################################\n",
    "##################### print cleaning info ####################\n",
    "##############################################################\n",
    "print('\\nNumber of rows    before data set cleaning:       %.0f'%(df_listings.shape[0]))\n",
    "print(  'Number of rows    after data set cleaning:        %.0f'%(tmp))\n",
    "print(  'Number of rows    after removal of rows with nan: %.0f'%(df_features.shape[0]))\n",
    "print(  'Number of columns before data set cleaning:       %.0f'%(df_listings.shape[1]))\n",
    "print(  'Number of columns initially selected:             %.0f'%len(features_ensemble))\n",
    "print(  'Number of columns after data set cleaning:        %.0f'%(df_features.shape[1]))\n",
    "\n",
    "display(df_features.describe())\n",
    "df_features.head()\n",
    "\n",
    "# merge to have metrics and features in the same dataFrame\n",
    "df_features_w_metrics = pd.merge(df_success_metrics, df_features, left_on = 'id', right_on = 'id')\n",
    "\n",
    "# set 'id' as the index of the dataFrame\n",
    "df_features_w_metrics = df_features_w_metrics.set_index('id')\n",
    "df_features_w_metrics.head()\n",
    "\n",
    "# for all these step random_seed is set to 1\n",
    "random_seed = 1"
   ]
  },
  {
   "cell_type": "code",
   "execution_count": null,
   "metadata": {},
   "outputs": [],
   "source": [
    "def perform_rf(metric, df_features_w_metrics, success_metrics_features, tune = False):\n",
    "    '''\n",
    "    takes the DataFrame containing features and metrics as argument, removes all metrics except one\n",
    "    which becomes then the 'label' and finally performs the random forest on these datas\n",
    "    '''\n",
    "    df = df_features_w_metrics.copy()\n",
    "    m = success_metrics_features.copy()\n",
    "    m.remove(metric)\n",
    "    df = df.drop(columns = m)\n",
    "    print('Random forest of features for the metric: ' + metric)\n",
    "    f = FeaturesTools(df, metric, random_seed = random_seed)\n",
    "    norm_feat = f.normalize_features()\n",
    "    f = FeaturesTools(norm_feat, metric, random_seed = random_seed)\n",
    "    imp, rf = f.randomForestAnalysis(plotResults = True, tuneModelParameters = tune)\n",
    "    return imp, rf, f"
   ]
  },
  {
   "cell_type": "code",
   "execution_count": null,
   "metadata": {},
   "outputs": [],
   "source": [
    "# perform random forest for each metric\n",
    "metric1 = 'review_scores_rating'\n",
    "imp1, rf1, f1 = perform_rf(metric1, df_features_w_metrics, success_metrics_features)"
   ]
  }
 ],
 "metadata": {
  "kernelspec": {
   "display_name": "Python 3",
   "language": "python",
   "name": "python3"
  },
  "language_info": {
   "codemirror_mode": {
    "name": "ipython",
    "version": 3
   },
   "file_extension": ".py",
   "mimetype": "text/x-python",
   "name": "python",
   "nbconvert_exporter": "python",
   "pygments_lexer": "ipython3",
   "version": "3.7.1"
  }
 },
 "nbformat": 4,
 "nbformat_minor": 4
}
